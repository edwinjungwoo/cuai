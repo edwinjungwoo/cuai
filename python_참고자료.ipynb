{
 "cells": [
  {
   "cell_type": "markdown",
   "metadata": {},
   "source": [
    "# 파이썬(Python) 기초\n",
    "\n",
    "* 참고(Jump to python) [Link](https://wikidocs.net/book/1)"
   ]
  },
  {
   "cell_type": "markdown",
   "metadata": {},
   "source": [
    "# 기본 자료형(int, float, str, list, tuple,bool) 살펴보기\n",
    "\n",
    "* 아래의 코드를 따라 실행해보세요 :D"
   ]
  },
  {
   "cell_type": "markdown",
   "metadata": {},
   "source": [
    "#### int형\n",
    "* 정수형(Integer)이란 말 그대로 정수를 뜻하는 자료형을 말한다. 다음 예는 양의 정수와 음의 정수, 숫자 0을 변수 a에 대입하는 예이다.\n",
    "\n",
    "#### type()\n",
    "* 데이터 타입(int, float, str ...)을 확인하는 함수"
   ]
  },
  {
   "cell_type": "raw",
   "metadata": {},
   "source": [
    "# 따라 쳐보세요!\n",
    "a = 123\n",
    "print(type(a))\n",
    "a = -123\n",
    "print(type(a))\n",
    "a = 0\n",
    "print(type(a))"
   ]
  },
  {
   "cell_type": "code",
   "execution_count": null,
   "metadata": {},
   "outputs": [],
   "source": []
  },
  {
   "cell_type": "markdown",
   "metadata": {},
   "source": [
    "#### float형\n",
    "* 파이썬에서 실수형(Floating-point)은 소수점이 포함된 숫자를 말한다. 다음은 실수를 변수 a에 대입하는 예이다."
   ]
  },
  {
   "cell_type": "raw",
   "metadata": {},
   "source": [
    "a = 1.342\n",
    "print(type(a))\n",
    "a = -1.123\n",
    "print(type(a))"
   ]
  },
  {
   "cell_type": "code",
   "execution_count": null,
   "metadata": {},
   "outputs": [],
   "source": []
  },
  {
   "cell_type": "markdown",
   "metadata": {},
   "source": [
    "#### str형\n",
    "* 문자열(String)이란 문자, 단어 등으로 구성된 문자들의 집합을 의미한다. "
   ]
  },
  {
   "cell_type": "raw",
   "metadata": {},
   "source": [
    "a = \"Hello\"\n",
    "print(type(a))\n",
    "a = \"안녕하세요\"\n",
    "print(type(a))"
   ]
  },
  {
   "cell_type": "code",
   "execution_count": null,
   "metadata": {},
   "outputs": [],
   "source": []
  },
  {
   "cell_type": "markdown",
   "metadata": {},
   "source": [
    "#### 문자열 인덱싱(indexing)\n",
    "\n",
    "```python\n",
    "    >>> a = \"Hello\"\n",
    "```\n",
    "\n",
    "* 위의 소스코드에서 변수 a에 저장한 문자열의 각 문자마다 번호를 매겨 보면 다음과 같다.\n",
    " |H|e|l|l|o|\n",
    " |-|-|-|-|-|\n",
    " |0|1|2|3|4|\n",
    "* __\"파이썬은 0부터 숫자를 센다\"__"
   ]
  },
  {
   "cell_type": "raw",
   "metadata": {},
   "source": [
    "a = \"Hello\"\n",
    "print(a[0])\n",
    "print(a[1])\n",
    "print(a[-1])"
   ]
  },
  {
   "cell_type": "code",
   "execution_count": null,
   "metadata": {},
   "outputs": [],
   "source": []
  },
  {
   "cell_type": "markdown",
   "metadata": {},
   "source": [
    "#### 문자열 슬라이싱(slicing)\n",
    "\n",
    "```python\n",
    "    >>> a = \"Hello\"\n",
    "    >>> a[0:3]\n",
    "    'Hel'\n",
    "```\n",
    "* a[0:3]이 뜻하는 것은 a 문자열, 즉 \"Hello\"에서 0부터 3까지의 문자를 뽑아낸다는 뜻이다.\n",
    "* '시작번호' <= a < '끝번호' 까지의 문자를 뽑아낸다.\n",
    "> ※ 인덱싱 기법과 슬라이싱 기법은 뒤에서 배울 자료형인 리스트나 튜플에서도 사용할 수 있다."
   ]
  },
  {
   "cell_type": "raw",
   "metadata": {},
   "source": [
    "a = \"Hello\"\n",
    "a[0:3]"
   ]
  },
  {
   "cell_type": "code",
   "execution_count": null,
   "metadata": {},
   "outputs": [],
   "source": []
  },
  {
   "cell_type": "markdown",
   "metadata": {},
   "source": [
    "#### bool형\n",
    "* 불(bool) 자료형이란 참(True)과 거짓(False)을 나타내는 자료형이다. 불 자료형은 다음 2가지 값만을 가질 수 있다.\n",
    "\n"
   ]
  },
  {
   "cell_type": "raw",
   "metadata": {},
   "source": [
    "a = True\n",
    "print(type(a))\n",
    "a = False\n",
    "print(type(a))"
   ]
  },
  {
   "cell_type": "code",
   "execution_count": null,
   "metadata": {},
   "outputs": [],
   "source": []
  },
  {
   "cell_type": "markdown",
   "metadata": {},
   "source": [
    "#### list형\n",
    "* 리스트(list)를 사용하면 숫자나 단어 모음을 다음과 같이 간단하게 표현할 수 있다.\n",
    "> list와 관련한 함수는 다음 링크를 참고하세요 :D [Link](https://wikidocs.net/14)"
   ]
  },
  {
   "cell_type": "raw",
   "metadata": {},
   "source": [
    "a = [1, 'Hello', '1.2']\n",
    "print(type(a))"
   ]
  },
  {
   "cell_type": "code",
   "execution_count": null,
   "metadata": {
    "scrolled": true
   },
   "outputs": [],
   "source": []
  },
  {
   "cell_type": "markdown",
   "metadata": {},
   "source": [
    "#### tuple형\n",
    "* 튜플(tuple)은 몇 가지 점을 제외하곤 리스트와 거의 비슷하며 리스트와 다른 점은 다음과 같다.\n",
    " 1. 리스트는 [ ]으로 둘러싸지만 튜플은 ( )으로 둘러싼다.\n",
    " 2. 리스트는 그 값의 생성, 삭제, 수정이 가능하지만 튜플은 그 값을 바꿀 수 없다.\n"
   ]
  },
  {
   "cell_type": "raw",
   "metadata": {},
   "source": [
    "a = (1, 'Hello', '1.2')\n",
    "print(type(a))\n",
    "a[0] = 3\n",
    "# 에러 발생!"
   ]
  },
  {
   "cell_type": "markdown",
   "metadata": {},
   "source": [
    "#### dictionary형\n",
    "* Key와 Value의 쌍 여러 개가 { }로 둘러싸여 있다. 각각의 요소는 Key : Value 형태로 이루어져 있고 쉼표(,)로 구분되어 있다."
   ]
  },
  {
   "cell_type": "raw",
   "metadata": {},
   "source": [
    "dic = {'name':'pey', 'phone':'0119993323', 'birth': '1118'}\n",
    "dic"
   ]
  },
  {
   "cell_type": "code",
   "execution_count": null,
   "metadata": {},
   "outputs": [],
   "source": []
  },
  {
   "cell_type": "markdown",
   "metadata": {},
   "source": [
    "#### 기본 연산자(+,-,*,/) 살펴보기"
   ]
  },
  {
   "cell_type": "raw",
   "metadata": {},
   "source": [
    "a = 5\n",
    "b = 3\n",
    "print(a + b)\n",
    "print(a - b)\n",
    "print(a * b)\n",
    "print(a / b)\n",
    "print(a % b)\n",
    "print(a // b)"
   ]
  },
  {
   "cell_type": "code",
   "execution_count": null,
   "metadata": {},
   "outputs": [],
   "source": []
  },
  {
   "cell_type": "markdown",
   "metadata": {},
   "source": [
    "#### 주석(Comment)\n",
    "* 코드 영향을 미치지 않음"
   ]
  },
  {
   "cell_type": "raw",
   "metadata": {},
   "source": [
    "# 한 줄 주석\n",
    "\n",
    "\"\"\"\n",
    "여러 줄\n",
    "주석 예시\n",
    "\"\"\""
   ]
  },
  {
   "cell_type": "code",
   "execution_count": null,
   "metadata": {},
   "outputs": [],
   "source": []
  },
  {
   "cell_type": "markdown",
   "metadata": {},
   "source": [
    "#### Markdown \n",
    "\n",
    "* Markdown은 문서 작성을 지원하는 태그(Tag) 형식의 문법이다.\n",
    "> What is Markdown? (출처 - 위키백과)\n",
    "마크다운(markdown)은 일반 텍스트 문서의 양식을 편집하는 문법이다. README 파일이나 온라인 문서, 혹은 일반 텍스트 편집기로 문서 양식을 편집할 때 쓰인다. 마크다운을 이용해 작성된 문서는 쉽게 HTML 등 다른 문서형태로 변환이 가능하다."
   ]
  },
  {
   "attachments": {
    "image.png": {
     "image/png": "[encoded data removed]"
    }
   },
   "cell_type": "markdown",
   "metadata": {},
   "source": [
    "#### Markdown 작성 방법\n",
    "![image.png](attachment:image.png)\n",
    "\n",
    "> Markdown 연습 및 문법 [Link](https://dooray.com/htmls/guides/markdown_ko_KR.html)"
   ]
  },
  {
   "cell_type": "raw",
   "metadata": {},
   "source": [
    "# 마크다운\n",
    "## 연습해보기\n",
    "---\n",
    "* markdown\n",
    " - 연습\n",
    "* code를 눌러서\n",
    " - __바꿔보세요!__\n",
    "> Basic 화이팅!"
   ]
  },
  {
   "cell_type": "code",
   "execution_count": null,
   "metadata": {},
   "outputs": [],
   "source": []
  },
  {
   "cell_type": "markdown",
   "metadata": {},
   "source": [
    "#### if 조건문\n",
    "* 프로그래밍에서 조건을 판단하여 해당 조건에 맞는 상황을 수행하는 데 쓰는 것이 바로 if문이다.\n",
    "\n",
    "\n",
    "* 아래는 if와 else를 사용한 조건문의 기본 구조이다\n",
    "```python\n",
    "if 조건문:\n",
    "    수행할 문장1\n",
    "    수행할 문장2\n",
    "    ...\n",
    "elif 조건문:\n",
    "    수행할 문장a\n",
    "    수행할 문장b\n",
    "    ...\n",
    "else:\n",
    "    수행할 문장A\n",
    "    수행할 문장B\n",
    "    ...\n",
    "```\n",
    "* __들여쓰기를 하지 않으면 오류가 발생한다__"
   ]
  },
  {
   "cell_type": "raw",
   "metadata": {
    "scrolled": true
   },
   "source": [
    "money = 2000\n",
    "card = True\n",
    "if money >= 3000 or card:\n",
    "     print(\"택시를 타고 가라\")\n",
    "else:\n",
    "     print(\"걸어가라\")"
   ]
  },
  {
   "cell_type": "markdown",
   "metadata": {},
   "source": [
    "#### for 반복문\n",
    "* for문의 기본 구조는 다음과 같다.\n",
    "```python\n",
    "for 변수 in 리스트(또는 튜플, 문자열) 혹은 range():\n",
    "    수행할 문장1\n",
    "    수행할 문장2\n",
    "    ...\n",
    "```"
   ]
  },
  {
   "cell_type": "raw",
   "metadata": {},
   "source": [
    "test_list = ['one', 'two', 'three'] \n",
    "for i in test_list: \n",
    "     print(i)"
   ]
  },
  {
   "cell_type": "code",
   "execution_count": null,
   "metadata": {},
   "outputs": [],
   "source": []
  },
  {
   "cell_type": "raw",
   "metadata": {},
   "source": [
    "for i in range(10): \n",
    "     print(i)"
   ]
  },
  {
   "cell_type": "code",
   "execution_count": null,
   "metadata": {
    "scrolled": true
   },
   "outputs": [],
   "source": []
  },
  {
   "cell_type": "markdown",
   "metadata": {},
   "source": [
    "#### 함수\n",
    "* 파이썬 함수의 구조는 다음과 같다.\n",
    "\n",
    "```python\n",
    "def add(a, b): \n",
    "    return a + b\n",
    "```\n",
    "\n",
    "* def는 함수를 만들 때 사용하는 예약어이며, 함수 이름은 함수를 만드는 사람이 임의로 만들 수 있다. 함수 이름 뒤 괄호 안의 매개변수는 이 함수에 입력으로 전달되는 값을 받는 변수이다. 이렇게 함수를 정의한 다음 if, while, for문 등과 마찬가지로 함수에서 수행할 문장을 입력한다.\n",
    "\n"
   ]
  },
  {
   "cell_type": "raw",
   "metadata": {},
   "source": [
    "def add(a, b): \n",
    "    return a + b\n",
    "add(1, 2)"
   ]
  },
  {
   "cell_type": "code",
   "execution_count": null,
   "metadata": {},
   "outputs": [],
   "source": []
  },
  {
   "cell_type": "markdown",
   "metadata": {},
   "source": [
    "#### lambda\n",
    "* lambda는 함수를 생성할 때 사용하는 예약어로 def와 동일한 역할을 한다. 보통 함수를 한줄로 간결하게 만들 때 사용한다. 우리말로는 \"람다\"라고 읽고 def를 사용해야 할 정도로 복잡하지 않거나 def를 사용할 수 없는 곳에 주로 쓰인다.\n",
    "\n",
    "```python\n",
    "add = lambda a, b: a+b\n",
    "result = add(3, 4)\n",
    "print(result)\n",
    "```\n",
    "* add는 두 개의 인수를 받아 서로 더한 값을 돌려주는 lambda 함수이다. 위 예제는 def를 사용한 다음 함수와 하는 일이 완전히 동일하다."
   ]
  },
  {
   "cell_type": "raw",
   "metadata": {},
   "source": [
    "add = lambda a, b: a+b\n",
    "result = add(3, 4)\n",
    "print(result)"
   ]
  },
  {
   "cell_type": "code",
   "execution_count": null,
   "metadata": {},
   "outputs": [],
   "source": []
  }
 ],
 "metadata": {
  "kernelspec": {
   "display_name": "Python 3",
   "language": "python",
   "name": "python3"
  },
  "language_info": {
   "codemirror_mode": {
    "name": "ipython",
    "version": 3
   },
   "file_extension": ".py",
   "mimetype": "text/x-python",
   "name": "python",
   "nbconvert_exporter": "python",
   "pygments_lexer": "ipython3",
   "version": "3.8.8"
  }
 },
 "nbformat": 4,
 "nbformat_minor": 4
}
