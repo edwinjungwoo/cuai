{
 "cells": [
  {
   "cell_type": "markdown",
   "id": "d4d6a0bb",
   "metadata": {},
   "source": [
    "# 설정"
   ]
  },
  {
   "cell_type": "code",
   "execution_count": 1,
   "id": "c1766b46",
   "metadata": {},
   "outputs": [],
   "source": [
    "# 파이썬 ≥3.5 필수\n",
    "import sys\n",
    "assert sys.version_info >= (3, 5)\n",
    "\n",
    "# 사이킷런 ≥0.20 필수\n",
    "import sklearn\n",
    "assert sklearn.__version__ >= \"0.20\"\n",
    "\n",
    "# 공통 모듈 임포트\n",
    "import numpy as np\n",
    "import os\n",
    "\n",
    "# 노트북 실행 결과를 동일하게 유지하기 위해\n",
    "np.random.seed(42)\n",
    "\n",
    "# 깔끔한 그래프 출력을 위해\n",
    "%matplotlib inline\n",
    "import matplotlib as mpl\n",
    "import matplotlib.pyplot as plt\n",
    "mpl.rc('axes', labelsize=14)\n",
    "mpl.rc('xtick', labelsize=12)\n",
    "mpl.rc('ytick', labelsize=12)\n",
    "\n",
    "# 그림을 저장할 위치\n",
    "PROJECT_ROOT_DIR = \".\"\n",
    "CHAPTER_ID = \"classification\"\n",
    "IMAGES_PATH = os.path.join(PROJECT_ROOT_DIR, \"images\", CHAPTER_ID)\n",
    "os.makedirs(IMAGES_PATH, exist_ok=True)\n",
    "\n",
    "def save_fig(fig_id, tight_layout=True, fig_extension=\"png\", resolution=300):\n",
    "    path = os.path.join(IMAGES_PATH, fig_id + \".\" + fig_extension)\n",
    "    print(\"그림 저장:\", fig_id)\n",
    "    if tight_layout:\n",
    "        plt.tight_layout()\n",
    "    plt.savefig(path, format=fig_extension, dpi=resolution)"
   ]
  },
  {
   "cell_type": "markdown",
   "id": "56be7213",
   "metadata": {},
   "source": [
    "# MNIST 데이터셋 \n",
    "###### 머신러닝 분야의 hello world"
   ]
  },
  {
   "cell_type": "code",
   "execution_count": 2,
   "id": "5b50b471",
   "metadata": {},
   "outputs": [
    {
     "data": {
      "text/plain": [
       "dict_keys(['data', 'target', 'frame', 'categories', 'feature_names', 'target_names', 'DESCR', 'details', 'url'])"
      ]
     },
     "execution_count": 2,
     "metadata": {},
     "output_type": "execute_result"
    }
   ],
   "source": [
    "from sklearn.datasets import fetch_openml\n",
    "mnist = fetch_openml('mnist_784', version=1, as_frame=False)\n",
    "mnist.keys()"
   ]
  },
  {
   "cell_type": "markdown",
   "id": "693da610",
   "metadata": {},
   "source": [
    "* 'data', 'target': numpy 배열로 반환 \n",
    "* 'frame': 데이터프레임으로 반환\n",
    "* 'feature_names': 픽셀에 대한 이름\n",
    "* 'target_names': 0부터9까지의 숫자 클래스\n",
    "* 'DESCR': MNIST에 대한 상세 정보\n",
    "* 'details': openml에 대한 메타data\n",
    "* 'categories': 픽셀은 0~255 사이 정수값이기 때문에 범주값 부재\n",
    "* 'url': openml 웹사이트의 주소"
   ]
  },
  {
   "cell_type": "code",
   "execution_count": 3,
   "id": "46151e77",
   "metadata": {},
   "outputs": [
    {
     "data": {
      "text/plain": [
       "(70000, 784)"
      ]
     },
     "execution_count": 3,
     "metadata": {},
     "output_type": "execute_result"
    }
   ],
   "source": [
    "X, y = mnist[\"data\"], mnist[\"target\"]\n",
    "X.shape\n",
    "\n",
    "#data는 2차원 배열이기 때문에 대문자 X 부여"
   ]
  },
  {
   "cell_type": "code",
   "execution_count": 4,
   "id": "33569cc4",
   "metadata": {},
   "outputs": [
    {
     "data": {
      "text/plain": [
       "(70000,)"
      ]
     },
     "execution_count": 4,
     "metadata": {},
     "output_type": "execute_result"
    }
   ],
   "source": [
    "y.shape"
   ]
  },
  {
   "cell_type": "markdown",
   "id": "f39c245c",
   "metadata": {},
   "source": [
    "> 70000개의 샘플이 784개의 특성 픽셀(28*28)"
   ]
  },
  {
   "cell_type": "markdown",
   "id": "b3347041",
   "metadata": {},
   "source": [
    "### 샘플로 그려보기"
   ]
  },
  {
   "cell_type": "code",
   "execution_count": 7,
   "id": "112644b1",
   "metadata": {},
   "outputs": [
    {
     "name": "stdout",
     "output_type": "stream",
     "text": [
      "그림 저장: some_digit_plot\n"
     ]
    },
    {
     "data": {
      "image/png": "[encoded data removed]",
      "text/plain": [
       "<Figure size 432x288 with 1 Axes>"
      ]
     },
     "metadata": {
      "needs_background": "light"
     },
     "output_type": "display_data"
    }
   ],
   "source": [
    "%matplotlib inline\n",
    "import matplotlib as mpl\n",
    "import matplotlib.pyplot as plt\n",
    "\n",
    "some_digit = X[0]\n",
    "some_digit_image = some_digit.reshape(28, 28) # 2차원 배열로 변환(numpy배열이라 reshape함수 사용 가능)\n",
    "plt.imshow(some_digit_image, cmap=mpl.cm.binary) # cmap = 'binary'흑백 반전\n",
    "plt.axis(\"off\")\n",
    "\n",
    "save_fig(\"some_digit_plot\")\n",
    "plt.show()"
   ]
  },
  {
   "cell_type": "code",
   "execution_count": 8,
   "id": "2a0316e6",
   "metadata": {},
   "outputs": [
    {
     "data": {
      "text/plain": [
       "'5'"
      ]
     },
     "execution_count": 8,
     "metadata": {},
     "output_type": "execute_result"
    }
   ],
   "source": [
    "y[0]"
   ]
  },
  {
   "cell_type": "markdown",
   "id": "c8b471bc",
   "metadata": {},
   "source": [
    "> 제대로 레이블된 것을 확인"
   ]
  },
  {
   "cell_type": "code",
   "execution_count": 9,
   "id": "d69a9e0a",
   "metadata": {},
   "outputs": [
    {
     "data": {
      "text/plain": [
       "str"
      ]
     },
     "execution_count": 9,
     "metadata": {},
     "output_type": "execute_result"
    }
   ],
   "source": [
    "type(y[0])"
   ]
  },
  {
   "cell_type": "markdown",
   "id": "595f83d5",
   "metadata": {},
   "source": [
    "#### 대부분 머신러닝 알고리즘은 숫자를 기대하므로 y를 정수로 변환"
   ]
  },
  {
   "cell_type": "code",
   "execution_count": 11,
   "id": "49b24a6e",
   "metadata": {},
   "outputs": [
    {
     "data": {
      "text/plain": [
       "numpy.uint8"
      ]
     },
     "execution_count": 11,
     "metadata": {},
     "output_type": "execute_result"
    }
   ],
   "source": [
    "y = y.astype(np.uint8)\n",
    "type(y[0])"
   ]
  },
  {
   "cell_type": "code",
   "execution_count": 12,
   "id": "b2c5fe93",
   "metadata": {},
   "outputs": [],
   "source": [
    "def plot_digit(data):\n",
    "    image = data.reshape(28, 28)\n",
    "    plt.imshow(image, cmap = mpl.cm.binary,\n",
    "               interpolation=\"nearest\")\n",
    "    plt.axis(\"off\")"
   ]
  },
  {
   "cell_type": "markdown",
   "id": "9b1e4b82",
   "metadata": {},
   "source": [
    "### 훈련집합 테스트집합 분할"
   ]
  },
  {
   "cell_type": "code",
   "execution_count": 14,
   "id": "7bbac297",
   "metadata": {},
   "outputs": [],
   "source": [
    "X_train, X_test, y_train, y_test = X[:60000], X[60000:], y[:60000], y[60000:]\n",
    "# 이미 트레인셋과 테스트셋이 분리되어 60000개는 트레인셋 뒤 10000개는 테스트셋으로 가이드되어 있음"
   ]
  },
  {
   "cell_type": "markdown",
   "id": "e38fb593",
   "metadata": {},
   "source": [
    "# 이진 분류기 훈련"
   ]
  },
  {
   "cell_type": "code",
   "execution_count": 15,
   "id": "2f175507",
   "metadata": {},
   "outputs": [],
   "source": [
    "y_train_5 = (y_train == 5) \n",
    "y_test_5 = (y_test == 5)\n",
    "# True와 False를 구분"
   ]
  },
  {
   "cell_type": "code",
   "execution_count": 16,
   "id": "dda4b63e",
   "metadata": {},
   "outputs": [
    {
     "data": {
      "text/plain": [
       "SGDClassifier(random_state=42)"
      ]
     },
     "execution_count": 16,
     "metadata": {},
     "output_type": "execute_result"
    }
   ],
   "source": [
    "from sklearn.linear_model import SGDClassifier\n",
    "\n",
    "sgd_clf = SGDClassifier(max_iter=1000, tol=1e-3, random_state=42)\n",
    "sgd_clf.fit(X_train, y_train_5)"
   ]
  },
  {
   "cell_type": "markdown",
   "id": "09836ffd",
   "metadata": {},
   "source": [
    "* SGDClassifier는 확률적 경사 하강법 분류 알고리즘으로 4강에서 상세 설명\n",
    "* SGD는 무작위성 사용하기에 결과 재현 위해선 random state 매개변수 지정"
   ]
  },
  {
   "cell_type": "code",
   "execution_count": 18,
   "id": "3a20d589",
   "metadata": {},
   "outputs": [
    {
     "data": {
      "text/plain": [
       "array([ True])"
      ]
     },
     "execution_count": 18,
     "metadata": {},
     "output_type": "execute_result"
    }
   ],
   "source": [
    "sgd_clf.predict([some_digit])\n",
    "# some_digit은 X[0]으로 5임\n",
    "# 사이킷런의 predict 메소드는 데이터를 2차원 배열을 가정하기에 some_digit에 []를 씌워 2차원 배열로 전달"
   ]
  },
  {
   "cell_type": "code",
   "execution_count": 19,
   "id": "a0a96109",
   "metadata": {},
   "outputs": [
    {
     "data": {
      "text/plain": [
       "array([0.95035, 0.96035, 0.9604 ])"
      ]
     },
     "execution_count": 19,
     "metadata": {},
     "output_type": "execute_result"
    }
   ],
   "source": [
    "from sklearn.model_selection import cross_val_score\n",
    "cross_val_score(sgd_clf, X_train, y_train_5, cv=3, scoring=\"accuracy\")"
   ]
  },
  {
   "cell_type": "markdown",
   "id": "4adbf318",
   "metadata": {},
   "source": [
    "# 성능 측정"
   ]
  },
  {
   "cell_type": "markdown",
   "id": "fb79b551",
   "metadata": {},
   "source": [
    "### 교차 검증 사용한 정확도 측정"
   ]
  },
  {
   "cell_type": "code",
   "execution_count": 20,
   "id": "c7737451",
   "metadata": {},
   "outputs": [
    {
     "name": "stdout",
     "output_type": "stream",
     "text": [
      "0.9669\n",
      "0.91625\n",
      "0.96785\n"
     ]
    }
   ],
   "source": [
    "from sklearn.model_selection import StratifiedKFold\n",
    "from sklearn.base import clone\n",
    "\n",
    "skfolds = StratifiedKFold(n_splits=3, random_state=42, shuffle=True)\n",
    "\n",
    "for train_index, test_index in skfolds.split(X_train, y_train_5):\n",
    "    clone_clf = clone(sgd_clf)\n",
    "    X_train_folds = X_train[train_index]\n",
    "    y_train_folds = y_train_5[train_index]\n",
    "    X_test_fold = X_train[test_index]\n",
    "    y_test_fold = y_train_5[test_index]\n",
    "\n",
    "    clone_clf.fit(X_train_folds, y_train_folds)\n",
    "    y_pred = clone_clf.predict(X_test_fold)\n",
    "    n_correct = sum(y_pred == y_test_fold)\n",
    "    print(n_correct / len(y_pred))"
   ]
  },
  {
   "cell_type": "code",
   "execution_count": 21,
   "id": "712bfab6",
   "metadata": {},
   "outputs": [
    {
     "data": {
      "text/plain": [
       "array([0.9669 , 0.91625, 0.96785])"
      ]
     },
     "execution_count": 21,
     "metadata": {},
     "output_type": "execute_result"
    }
   ],
   "source": [
    "cross_val_score(sgd_clf, X_train, y_train_5, cv=skfolds, scoring=\"accuracy\")"
   ]
  },
  {
   "cell_type": "markdown",
   "id": "c0fb86fe",
   "metadata": {},
   "source": [
    "> cv = skfolds 만 입력해도 위 for문 생략 가능"
   ]
  },
  {
   "cell_type": "code",
   "execution_count": 22,
   "id": "221e9e05",
   "metadata": {},
   "outputs": [],
   "source": [
    "from sklearn.base import BaseEstimator\n",
    "class Never5Classifier(BaseEstimator):\n",
    "    def fit(self, X, y=None):\n",
    "        pass\n",
    "    def predict(self, X):\n",
    "        return np.zeros((len(X), 1), dtype=bool)"
   ]
  },
  {
   "cell_type": "code",
   "execution_count": 23,
   "id": "64530b25",
   "metadata": {},
   "outputs": [
    {
     "data": {
      "text/plain": [
       "array([0.91125, 0.90855, 0.90915])"
      ]
     },
     "execution_count": 23,
     "metadata": {},
     "output_type": "execute_result"
    }
   ],
   "source": [
    "never_5_clf = Never5Classifier()\n",
    "cross_val_score(never_5_clf, X_train, y_train_5, cv=3, scoring=\"accuracy\")"
   ]
  },
  {
   "cell_type": "markdown",
   "id": "299f5662",
   "metadata": {},
   "source": [
    "* 5가 아님을 판별하는 분류기 생성\n",
    "* 모두 정확도 90%를 넘지만 모든 이미지 중 단10%만이 5이기 때문에 성능이 좋다고 할 수 없음\n",
    "* 양성 클래스가 적을 때 이러한 문제가 나타남 (불균형한 데이터셋)\n",
    "* 따라서, 정확도만을 갖고 모델의 성능을 평가하기 어려움!"
   ]
  },
  {
   "cell_type": "markdown",
   "id": "756c6694",
   "metadata": {},
   "source": [
    "### 오차 행렬 (혼동 행렬)"
   ]
  },
  {
   "cell_type": "code",
   "execution_count": 24,
   "id": "9c0fdfcf",
   "metadata": {},
   "outputs": [],
   "source": [
    "from sklearn.model_selection import cross_val_predict\n",
    "\n",
    "y_train_pred = cross_val_predict(sgd_clf, X_train, y_train_5, cv=3)"
   ]
  },
  {
   "cell_type": "code",
   "execution_count": 25,
   "id": "b30179f8",
   "metadata": {},
   "outputs": [
    {
     "data": {
      "text/plain": [
       "array([[53892,   687],\n",
       "       [ 1891,  3530]], dtype=int64)"
      ]
     },
     "execution_count": 25,
     "metadata": {},
     "output_type": "execute_result"
    }
   ],
   "source": [
    "from sklearn.metrics import confusion_matrix\n",
    "\n",
    "confusion_matrix(y_train_5, y_train_pred)"
   ]
  },
  {
   "cell_type": "markdown",
   "id": "33b61d52",
   "metadata": {},
   "source": [
    "![혼동행렬](https://t1.daumcdn.net/cfile/tistory/99F53C395CFE3EA919)"
   ]
  },
  {
   "cell_type": "markdown",
   "id": "6de7f99e",
   "metadata": {},
   "source": [
    "뒤 N, P 먼저 읽으면: \n",
    "   * TN(음성이로 예측했는데 진짜 음성임)\n",
    "   * FP(양성으로 예측했는데 틀렸고 음성임)\n",
    "   * FN(음성으로 예측했는데 틀렸고 양성임)\n",
    "   * TP(양성으로 예측했는데 진짜 양성임)"
   ]
  },
  {
   "cell_type": "markdown",
   "id": "27c75fa6",
   "metadata": {},
   "source": [
    "![정확정밀재현](data:image/png;base64,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)"
   ]
  },
  {
   "cell_type": "markdown",
   "id": "9469b792",
   "metadata": {},
   "source": [
    "#### 정밀도(Precison)"
   ]
  },
  {
   "cell_type": "markdown",
   "id": "301fabb8",
   "metadata": {},
   "source": [
    "양성으로 예측한 것으로만 계산"
   ]
  },
  {
   "cell_type": "markdown",
   "id": "ed0313b8",
   "metadata": {},
   "source": [
    "#### 재현율(Recall)"
   ]
  },
  {
   "cell_type": "markdown",
   "id": "1e8d2e74",
   "metadata": {},
   "source": [
    "실제 양성 데이터로만 계산"
   ]
  },
  {
   "cell_type": "code",
   "execution_count": 27,
   "id": "fea36002",
   "metadata": {},
   "outputs": [
    {
     "data": {
      "text/plain": [
       "0.8370879772350012"
      ]
     },
     "execution_count": 27,
     "metadata": {},
     "output_type": "execute_result"
    }
   ],
   "source": [
    "from sklearn.metrics import precision_score, recall_score\n",
    "\n",
    "precision_score(y_train_5, y_train_pred)"
   ]
  },
  {
   "cell_type": "code",
   "execution_count": 28,
   "id": "a1d9b74b",
   "metadata": {},
   "outputs": [
    {
     "data": {
      "text/plain": [
       "0.6511713705958311"
      ]
     },
     "execution_count": 28,
     "metadata": {},
     "output_type": "execute_result"
    }
   ],
   "source": [
    "recall_score(y_train_5, y_train_pred)"
   ]
  },
  {
   "cell_type": "markdown",
   "id": "686daa5d",
   "metadata": {},
   "source": [
    "#### f1스코어 (정밀도와 재현율의 조화평균)"
   ]
  },
  {
   "cell_type": "code",
   "execution_count": 30,
   "id": "4f2d43f6",
   "metadata": {},
   "outputs": [
    {
     "data": {
      "text/plain": [
       "0.7325171197343846"
      ]
     },
     "execution_count": 30,
     "metadata": {},
     "output_type": "execute_result"
    }
   ],
   "source": [
    "from sklearn.metrics import f1_score\n",
    "\n",
    "f1_score(y_train_5, y_train_pred)"
   ]
  },
  {
   "cell_type": "markdown",
   "id": "5b07351d",
   "metadata": {},
   "source": [
    "### 정밀도 / 재현율 트레이드오프"
   ]
  },
  {
   "cell_type": "markdown",
   "id": "f319d853",
   "metadata": {},
   "source": [
    "분류 예측 메소드가 decision function을 호출하고 threshold 기준으로 분류\n",
    "\n",
    "임곗값이 높을수록 재현율은 낮아지고 반대로 정밀도는 높아짐"
   ]
  },
  {
   "cell_type": "code",
   "execution_count": 31,
   "id": "ff7fdad7",
   "metadata": {},
   "outputs": [
    {
     "data": {
      "text/plain": [
       "array([2164.22030239])"
      ]
     },
     "execution_count": 31,
     "metadata": {},
     "output_type": "execute_result"
    }
   ],
   "source": [
    "y_scores = sgd_clf.decision_function([some_digit])\n",
    "y_scores"
   ]
  },
  {
   "cell_type": "code",
   "execution_count": 32,
   "id": "a262c722",
   "metadata": {},
   "outputs": [
    {
     "data": {
      "text/plain": [
       "array([ True])"
      ]
     },
     "execution_count": 32,
     "metadata": {},
     "output_type": "execute_result"
    }
   ],
   "source": [
    "threshold = 0\n",
    "y_some_digit_pred = (y_scores > threshold)\n",
    "y_some_digit_pred"
   ]
  },
  {
   "cell_type": "code",
   "execution_count": 33,
   "id": "5ffc7fb9",
   "metadata": {},
   "outputs": [
    {
     "data": {
      "text/plain": [
       "array([False])"
      ]
     },
     "execution_count": 33,
     "metadata": {},
     "output_type": "execute_result"
    }
   ],
   "source": [
    "threshold = 8000\n",
    "y_some_digit_pred = (y_scores > threshold)\n",
    "y_some_digit_pred"
   ]
  },
  {
   "cell_type": "code",
   "execution_count": 34,
   "id": "79549875",
   "metadata": {},
   "outputs": [],
   "source": [
    "y_scores = cross_val_predict(sgd_clf, X_train, y_train_5, cv=3,\n",
    "                             method=\"decision_function\")"
   ]
  },
  {
   "cell_type": "code",
   "execution_count": 35,
   "id": "1fd50975",
   "metadata": {},
   "outputs": [],
   "source": [
    "from sklearn.metrics import precision_recall_curve\n",
    "\n",
    "precisions, recalls, thresholds = precision_recall_curve(y_train_5, y_scores)"
   ]
  },
  {
   "cell_type": "markdown",
   "id": "e295ffc1",
   "metadata": {},
   "source": [
    "#### 결정 임곗값에 대한 정밀도재현율"
   ]
  },
  {
   "cell_type": "code",
   "execution_count": 36,
   "id": "ad760e15",
   "metadata": {},
   "outputs": [
    {
     "name": "stdout",
     "output_type": "stream",
     "text": [
      "그림 저장: precision_recall_vs_threshold_plot\n"
     ]
    },
    {
     "data": {
      "image/png": "[encoded data removed]",
      "text/plain": [
       "<Figure size 576x288 with 1 Axes>"
      ]
     },
     "metadata": {
      "needs_background": "light"
     },
     "output_type": "display_data"
    }
   ],
   "source": [
    "def plot_precision_recall_vs_threshold(precisions, recalls, thresholds):\n",
    "    plt.plot(thresholds, precisions[:-1], \"b--\", label=\"Precision\", linewidth=2)\n",
    "    plt.plot(thresholds, recalls[:-1], \"g-\", label=\"Recall\", linewidth=2)\n",
    "    plt.legend(loc=\"center right\", fontsize=16) # Not shown in the book\n",
    "    plt.xlabel(\"Threshold\", fontsize=16)        # Not shown\n",
    "    plt.grid(True)                              # Not shown\n",
    "    plt.axis([-50000, 50000, 0, 1])             # Not shown\n",
    "\n",
    "\n",
    "\n",
    "recall_90_precision = recalls[np.argmax(precisions >= 0.90)]\n",
    "threshold_90_precision = thresholds[np.argmax(precisions >= 0.90)]\n",
    "\n",
    "\n",
    "plt.figure(figsize=(8, 4))                                                                  # Not shown\n",
    "plot_precision_recall_vs_threshold(precisions, recalls, thresholds)\n",
    "plt.plot([threshold_90_precision, threshold_90_precision], [0., 0.9], \"r:\")                 # Not shown\n",
    "plt.plot([-50000, threshold_90_precision], [0.9, 0.9], \"r:\")                                # Not shown\n",
    "plt.plot([-50000, threshold_90_precision], [recall_90_precision, recall_90_precision], \"r:\")# Not shown\n",
    "plt.plot([threshold_90_precision], [0.9], \"ro\")                                             # Not shown\n",
    "plt.plot([threshold_90_precision], [recall_90_precision], \"ro\")                             # Not shown\n",
    "save_fig(\"precision_recall_vs_threshold_plot\")                                              # Not shown\n",
    "plt.show()"
   ]
  },
  {
   "cell_type": "code",
   "execution_count": 37,
   "id": "366f3fdc",
   "metadata": {},
   "outputs": [
    {
     "data": {
      "text/plain": [
       "True"
      ]
     },
     "execution_count": 37,
     "metadata": {},
     "output_type": "execute_result"
    }
   ],
   "source": [
    "(y_train_pred == (y_scores > 0)).all()"
   ]
  },
  {
   "cell_type": "markdown",
   "id": "c301cc2f",
   "metadata": {},
   "source": [
    "#### 정밀도재현율곡선"
   ]
  },
  {
   "cell_type": "code",
   "execution_count": 38,
   "id": "03058f90",
   "metadata": {},
   "outputs": [
    {
     "name": "stdout",
     "output_type": "stream",
     "text": [
      "그림 저장: precision_vs_recall_plot\n"
     ]
    },
    {
     "data": {
      "image/png": "[encoded data removed]",
      "text/plain": [
       "<Figure size 576x432 with 1 Axes>"
      ]
     },
     "metadata": {
      "needs_background": "light"
     },
     "output_type": "display_data"
    }
   ],
   "source": [
    "def plot_precision_vs_recall(precisions, recalls):\n",
    "    plt.plot(recalls, precisions, \"b-\", linewidth=2)\n",
    "    plt.xlabel(\"Recall\", fontsize=16)\n",
    "    plt.ylabel(\"Precision\", fontsize=16)\n",
    "    plt.axis([0, 1, 0, 1])\n",
    "    plt.grid(True)\n",
    "\n",
    "plt.figure(figsize=(8, 6))\n",
    "plot_precision_vs_recall(precisions, recalls)\n",
    "plt.plot([recall_90_precision, recall_90_precision], [0., 0.9], \"r:\")\n",
    "plt.plot([0.0, recall_90_precision], [0.9, 0.9], \"r:\")\n",
    "plt.plot([recall_90_precision], [0.9], \"ro\")\n",
    "save_fig(\"precision_vs_recall_plot\")\n",
    "plt.show()"
   ]
  },
  {
   "cell_type": "markdown",
   "id": "f43bebdc",
   "metadata": {},
   "source": [
    "> 그래프가 오른쪽에 붙으면 붙을수록 좋은 모델"
   ]
  },
  {
   "cell_type": "code",
   "execution_count": 39,
   "id": "4ef15638",
   "metadata": {},
   "outputs": [],
   "source": [
    "threshold_90_precision = thresholds[np.argmax(precisions >= 0.90)] #정밀도 90을 목표로 했을 때 임곗값"
   ]
  },
  {
   "cell_type": "code",
   "execution_count": 40,
   "id": "5aa96276",
   "metadata": {},
   "outputs": [
    {
     "data": {
      "text/plain": [
       "3370.0194991439557"
      ]
     },
     "execution_count": 40,
     "metadata": {},
     "output_type": "execute_result"
    }
   ],
   "source": [
    "threshold_90_precision"
   ]
  },
  {
   "cell_type": "code",
   "execution_count": 42,
   "id": "01ae4322",
   "metadata": {},
   "outputs": [
    {
     "data": {
      "text/plain": [
       "0.9000345901072293"
      ]
     },
     "execution_count": 42,
     "metadata": {},
     "output_type": "execute_result"
    }
   ],
   "source": [
    "y_train_pred_90 = (y_scores >= threshold_90_precision)\n",
    "precision_score(y_train_5, y_train_pred_90)"
   ]
  },
  {
   "cell_type": "code",
   "execution_count": 43,
   "id": "0768dbb6",
   "metadata": {},
   "outputs": [
    {
     "data": {
      "text/plain": [
       "0.4799852425751706"
      ]
     },
     "execution_count": 43,
     "metadata": {},
     "output_type": "execute_result"
    }
   ],
   "source": [
    "recall_score(y_train_5, y_train_pred_90)"
   ]
  },
  {
   "cell_type": "markdown",
   "id": "0b670ce0",
   "metadata": {},
   "source": [
    "### ROC 곡선"
   ]
  },
  {
   "cell_type": "code",
   "execution_count": 44,
   "id": "60b66786",
   "metadata": {},
   "outputs": [],
   "source": [
    "from sklearn.metrics import roc_curve\n",
    "\n",
    "fpr, tpr, thresholds = roc_curve(y_train_5, y_scores)"
   ]
  },
  {
   "cell_type": "code",
   "execution_count": 45,
   "id": "467c49ad",
   "metadata": {},
   "outputs": [
    {
     "name": "stdout",
     "output_type": "stream",
     "text": [
      "그림 저장: roc_curve_plot\n"
     ]
    },
    {
     "data": {
      "image/png": "[encoded data removed]",
      "text/plain": [
       "<Figure size 576x432 with 1 Axes>"
      ]
     },
     "metadata": {
      "needs_background": "light"
     },
     "output_type": "display_data"
    }
   ],
   "source": [
    "def plot_roc_curve(fpr, tpr, label=None):\n",
    "    plt.plot(fpr, tpr, linewidth=2, label=label)\n",
    "    plt.plot([0, 1], [0, 1], 'k--') # 대각 점선\n",
    "    plt.axis([0, 1, 0, 1])                                    # Not shown in the book\n",
    "    plt.xlabel('False Positive Rate (Fall-Out)', fontsize=16) # Not shown\n",
    "    plt.ylabel('True Positive Rate (Recall)', fontsize=16)    # Not shown\n",
    "    plt.grid(True)                                            # Not shown\n",
    "\n",
    "plt.figure(figsize=(8, 6))                                    # Not shown\n",
    "plot_roc_curve(fpr, tpr)\n",
    "fpr_90 = fpr[np.argmax(tpr >= recall_90_precision)]           # Not shown\n",
    "plt.plot([fpr_90, fpr_90], [0., recall_90_precision], \"r:\")   # Not shown\n",
    "plt.plot([0.0, fpr_90], [recall_90_precision, recall_90_precision], \"r:\")  # Not shown\n",
    "plt.plot([fpr_90], [recall_90_precision], \"ro\")               # Not shown\n",
    "save_fig(\"roc_curve_plot\")                                    # Not shown\n",
    "plt.show()"
   ]
  },
  {
   "cell_type": "code",
   "execution_count": 46,
   "id": "24c7924d",
   "metadata": {},
   "outputs": [
    {
     "data": {
      "text/plain": [
       "0.9604938554008616"
      ]
     },
     "execution_count": 46,
     "metadata": {},
     "output_type": "execute_result"
    }
   ],
   "source": [
    "from sklearn.metrics import roc_auc_score\n",
    "\n",
    "roc_auc_score(y_train_5, y_scores)"
   ]
  },
  {
   "cell_type": "markdown",
   "id": "ba2cbe5b",
   "metadata": {},
   "source": [
    "## 랜덤포리스트로 훈련"
   ]
  },
  {
   "cell_type": "code",
   "execution_count": 47,
   "id": "25020bab",
   "metadata": {},
   "outputs": [],
   "source": [
    "from sklearn.ensemble import RandomForestClassifier\n",
    "forest_clf = RandomForestClassifier(n_estimators=100, random_state=42)\n",
    "y_probas_forest = cross_val_predict(forest_clf, X_train, y_train_5, cv=3,\n",
    "                                    method=\"predict_proba\")\n",
    "# predict_proba는 예측이 아닌 예측의 확률값 반환"
   ]
  },
  {
   "cell_type": "code",
   "execution_count": 48,
   "id": "0c02330f",
   "metadata": {},
   "outputs": [],
   "source": [
    "y_scores_forest = y_probas_forest[:, 1] # 점수 = 양성 클래스의 확률\n",
    "fpr_forest, tpr_forest, thresholds_forest = roc_curve(y_train_5,y_scores_forest)"
   ]
  },
  {
   "cell_type": "code",
   "execution_count": 49,
   "id": "11871be8",
   "metadata": {},
   "outputs": [
    {
     "name": "stdout",
     "output_type": "stream",
     "text": [
      "그림 저장: roc_curve_comparison_plot\n"
     ]
    },
    {
     "data": {
      "image/png": "[encoded data removed]",
      "text/plain": [
       "<Figure size 576x432 with 1 Axes>"
      ]
     },
     "metadata": {
      "needs_background": "light"
     },
     "output_type": "display_data"
    }
   ],
   "source": [
    "recall_for_forest = tpr_forest[np.argmax(fpr_forest >= fpr_90)]\n",
    "\n",
    "plt.figure(figsize=(8, 6))\n",
    "plt.plot(fpr, tpr, \"b:\", linewidth=2, label=\"SGD\")\n",
    "plot_roc_curve(fpr_forest, tpr_forest, \"Random Forest\")\n",
    "plt.plot([fpr_90, fpr_90], [0., recall_90_precision], \"r:\")\n",
    "plt.plot([0.0, fpr_90], [recall_90_precision, recall_90_precision], \"r:\")\n",
    "plt.plot([fpr_90], [recall_90_precision], \"ro\")\n",
    "plt.plot([fpr_90, fpr_90], [0., recall_for_forest], \"r:\")\n",
    "plt.plot([fpr_90], [recall_for_forest], \"ro\")\n",
    "plt.grid(True)\n",
    "plt.legend(loc=\"lower right\", fontsize=16)\n",
    "save_fig(\"roc_curve_comparison_plot\")\n",
    "plt.show()"
   ]
  },
  {
   "cell_type": "code",
   "execution_count": 50,
   "id": "cadcb8a2",
   "metadata": {},
   "outputs": [
    {
     "data": {
      "text/plain": [
       "0.9983436731328145"
      ]
     },
     "execution_count": 50,
     "metadata": {},
     "output_type": "execute_result"
    }
   ],
   "source": [
    "roc_auc_score(y_train_5, y_scores_forest)"
   ]
  },
  {
   "cell_type": "code",
   "execution_count": 51,
   "id": "6e1f1bbb",
   "metadata": {},
   "outputs": [
    {
     "data": {
      "text/plain": [
       "0.9905083315756169"
      ]
     },
     "execution_count": 51,
     "metadata": {},
     "output_type": "execute_result"
    }
   ],
   "source": [
    "y_train_pred_forest = cross_val_predict(forest_clf, X_train, y_train_5, cv=3)\n",
    "precision_score(y_train_5, y_train_pred_forest)"
   ]
  },
  {
   "cell_type": "code",
   "execution_count": 52,
   "id": "85988041",
   "metadata": {},
   "outputs": [
    {
     "data": {
      "text/plain": [
       "0.8662608374838591"
      ]
     },
     "execution_count": 52,
     "metadata": {},
     "output_type": "execute_result"
    }
   ],
   "source": [
    "recall_score(y_train_5, y_train_pred_forest)"
   ]
  },
  {
   "cell_type": "markdown",
   "id": "26f0a540",
   "metadata": {},
   "source": [
    "## 다중 분류"
   ]
  },
  {
   "cell_type": "markdown",
   "id": "7cef54c0",
   "metadata": {},
   "source": [
    "* OvR, OvA: N개 모델 훈련\n",
    "* OvO: N(N-1)/2개 훈련"
   ]
  },
  {
   "cell_type": "code",
   "execution_count": 53,
   "id": "06a79fd1",
   "metadata": {},
   "outputs": [
    {
     "data": {
      "text/plain": [
       "array([5], dtype=uint8)"
      ]
     },
     "execution_count": 53,
     "metadata": {},
     "output_type": "execute_result"
    }
   ],
   "source": [
    "from sklearn.svm import SVC\n",
    "\n",
    "svm_clf = SVC(gamma=\"auto\", random_state=42)\n",
    "svm_clf.fit(X_train[:1000], y_train[:1000]) # y_train_5이 아니라 y_train입니다\n",
    "svm_clf.predict([some_digit])\n",
    "\n",
    "#SVC 서포트 벡터 머신은 5강에서 자세한 설명"
   ]
  },
  {
   "cell_type": "code",
   "execution_count": 54,
   "id": "247eb8aa",
   "metadata": {},
   "outputs": [
    {
     "data": {
      "text/plain": [
       "array([[ 2.81585438,  7.09167958,  3.82972099,  0.79365551,  5.8885703 ,\n",
       "         9.29718395,  1.79862509,  8.10392157, -0.228207  ,  4.83753243]])"
      ]
     },
     "execution_count": 54,
     "metadata": {},
     "output_type": "execute_result"
    }
   ],
   "source": [
    "some_digit_scores = svm_clf.decision_function([some_digit])\n",
    "some_digit_scores"
   ]
  },
  {
   "cell_type": "markdown",
   "id": "1556367d",
   "metadata": {},
   "source": [
    "> SVC는 현재 45개 이진 분류기를 훈련시켜 각 결점 점수를 얻고 가장 높은 클래스를 반환한 것"
   ]
  },
  {
   "cell_type": "code",
   "execution_count": 55,
   "id": "9220059a",
   "metadata": {},
   "outputs": [
    {
     "data": {
      "text/plain": [
       "5"
      ]
     },
     "execution_count": 55,
     "metadata": {},
     "output_type": "execute_result"
    }
   ],
   "source": [
    "np.argmax(some_digit_scores)"
   ]
  },
  {
   "cell_type": "code",
   "execution_count": 56,
   "id": "181cd042",
   "metadata": {},
   "outputs": [
    {
     "data": {
      "text/plain": [
       "array([0, 1, 2, 3, 4, 5, 6, 7, 8, 9], dtype=uint8)"
      ]
     },
     "execution_count": 56,
     "metadata": {},
     "output_type": "execute_result"
    }
   ],
   "source": [
    "svm_clf.classes_"
   ]
  },
  {
   "cell_type": "code",
   "execution_count": 57,
   "id": "7d68d958",
   "metadata": {},
   "outputs": [
    {
     "data": {
      "text/plain": [
       "5"
      ]
     },
     "execution_count": 57,
     "metadata": {},
     "output_type": "execute_result"
    }
   ],
   "source": [
    "svm_clf.classes_[5]"
   ]
  },
  {
   "cell_type": "markdown",
   "id": "0f89fca5",
   "metadata": {},
   "source": [
    "### OvR전략 사용 강제"
   ]
  },
  {
   "cell_type": "code",
   "execution_count": 58,
   "id": "012ef9e6",
   "metadata": {},
   "outputs": [
    {
     "data": {
      "text/plain": [
       "array([5], dtype=uint8)"
      ]
     },
     "execution_count": 58,
     "metadata": {},
     "output_type": "execute_result"
    }
   ],
   "source": [
    "from sklearn.multiclass import OneVsRestClassifier\n",
    "ovr_clf = OneVsRestClassifier(SVC(gamma=\"auto\", random_state=42))\n",
    "ovr_clf.fit(X_train[:1000], y_train[:1000])\n",
    "ovr_clf.predict([some_digit])"
   ]
  },
  {
   "cell_type": "code",
   "execution_count": 60,
   "id": "f86006af",
   "metadata": {},
   "outputs": [
    {
     "data": {
      "text/plain": [
       "10"
      ]
     },
     "execution_count": 60,
     "metadata": {},
     "output_type": "execute_result"
    }
   ],
   "source": [
    "len(ovr_clf.estimators_)\n",
    "#만든 분류기의 개수"
   ]
  },
  {
   "cell_type": "code",
   "execution_count": 61,
   "id": "fcc06eda",
   "metadata": {},
   "outputs": [
    {
     "data": {
      "text/plain": [
       "array([3], dtype=uint8)"
      ]
     },
     "execution_count": 61,
     "metadata": {},
     "output_type": "execute_result"
    }
   ],
   "source": [
    "sgd_clf.fit(X_train, y_train)\n",
    "sgd_clf.predict([some_digit])"
   ]
  },
  {
   "cell_type": "code",
   "execution_count": 63,
   "id": "f325f07c",
   "metadata": {},
   "outputs": [
    {
     "data": {
      "text/plain": [
       "array([[-31893.03095419, -34419.69069632,  -9530.63950739,\n",
       "          1823.73154031, -22320.14822878,  -1385.80478895,\n",
       "        -26188.91070951, -16147.51323997,  -4604.35491274,\n",
       "        -12050.767298  ]])"
      ]
     },
     "execution_count": 63,
     "metadata": {},
     "output_type": "execute_result"
    }
   ],
   "source": [
    "sgd_clf.decision_function([some_digit])\n",
    "# SGDClassifier를 이용해 훈련해도 OvR 전략에 따라 10개 분류기 생성"
   ]
  },
  {
   "cell_type": "code",
   "execution_count": 64,
   "id": "6b10f1fd",
   "metadata": {},
   "outputs": [
    {
     "data": {
      "text/plain": [
       "array([0.87365, 0.85835, 0.8689 ])"
      ]
     },
     "execution_count": 64,
     "metadata": {},
     "output_type": "execute_result"
    }
   ],
   "source": [
    "cross_val_score(sgd_clf, X_train, y_train, cv=3, scoring=\"accuracy\")"
   ]
  },
  {
   "cell_type": "markdown",
   "id": "86bca52d",
   "metadata": {},
   "source": [
    "> cross_validate() 함수를 사용하는 편"
   ]
  },
  {
   "cell_type": "code",
   "execution_count": 65,
   "id": "942b81a3",
   "metadata": {},
   "outputs": [
    {
     "data": {
      "text/plain": [
       "array([0.8983, 0.891 , 0.9018])"
      ]
     },
     "execution_count": 65,
     "metadata": {},
     "output_type": "execute_result"
    }
   ],
   "source": [
    "from sklearn.preprocessing import StandardScaler\n",
    "scaler = StandardScaler()\n",
    "X_train_scaled = scaler.fit_transform(X_train.astype(np.float64))\n",
    "cross_val_score(sgd_clf, X_train_scaled, y_train, cv=3, scoring=\"accuracy\")\n"
   ]
  },
  {
   "cell_type": "markdown",
   "id": "a0e3c26d",
   "metadata": {},
   "source": [
    "> (당연하지만) 전처리를 한 후 훈련을 실행하면 결과가 더 좋게 나옴"
   ]
  },
  {
   "cell_type": "markdown",
   "id": "bc1f0813",
   "metadata": {},
   "source": [
    "## 에러 분석 (오차 행렬 활용)"
   ]
  },
  {
   "cell_type": "code",
   "execution_count": 66,
   "id": "51a71779",
   "metadata": {},
   "outputs": [
    {
     "data": {
      "text/plain": [
       "array([[5577,    0,   22,    5,    8,   43,   36,    6,  225,    1],\n",
       "       [   0, 6400,   37,   24,    4,   44,    4,    7,  212,   10],\n",
       "       [  27,   27, 5220,   92,   73,   27,   67,   36,  378,   11],\n",
       "       [  22,   17,  117, 5227,    2,  203,   27,   40,  403,   73],\n",
       "       [  12,   14,   41,    9, 5182,   12,   34,   27,  347,  164],\n",
       "       [  27,   15,   30,  168,   53, 4444,   75,   14,  535,   60],\n",
       "       [  30,   15,   42,    3,   44,   97, 5552,    3,  131,    1],\n",
       "       [  21,   10,   51,   30,   49,   12,    3, 5684,  195,  210],\n",
       "       [  17,   63,   48,   86,    3,  126,   25,   10, 5429,   44],\n",
       "       [  25,   18,   30,   64,  118,   36,    1,  179,  371, 5107]],\n",
       "      dtype=int64)"
      ]
     },
     "execution_count": 66,
     "metadata": {},
     "output_type": "execute_result"
    }
   ],
   "source": [
    "y_train_pred = cross_val_predict(sgd_clf, X_train_scaled, y_train, cv=3)\n",
    "conf_mx = confusion_matrix(y_train, y_train_pred)\n",
    "conf_mx"
   ]
  },
  {
   "cell_type": "code",
   "execution_count": 67,
   "id": "5685d15a",
   "metadata": {},
   "outputs": [
    {
     "name": "stdout",
     "output_type": "stream",
     "text": [
      "그림 저장: confusion_matrix_plot\n"
     ]
    },
    {
     "data": {
      "image/png": "[encoded data removed]",
      "text/plain": [
       "<Figure size 288x288 with 1 Axes>"
      ]
     },
     "metadata": {
      "needs_background": "light"
     },
     "output_type": "display_data"
    }
   ],
   "source": [
    "plt.matshow(conf_mx, cmap=plt.cm.gray)\n",
    "save_fig(\"confusion_matrix_plot\", tight_layout=False)\n",
    "plt.show()\n",
    "#이미지로 표현"
   ]
  },
  {
   "cell_type": "code",
   "execution_count": 68,
   "id": "bb9d10b3",
   "metadata": {},
   "outputs": [],
   "source": [
    "row_sums = conf_mx.sum(axis=1, keepdims=True)\n",
    "norm_conf_mx = conf_mx / row_sums"
   ]
  },
  {
   "cell_type": "code",
   "execution_count": 69,
   "id": "1c5bebb3",
   "metadata": {},
   "outputs": [
    {
     "name": "stdout",
     "output_type": "stream",
     "text": [
      "그림 저장: confusion_matrix_errors_plot\n"
     ]
    },
    {
     "data": {
      "image/png": "[encoded data removed]",
      "text/plain": [
       "<Figure size 288x288 with 1 Axes>"
      ]
     },
     "metadata": {
      "needs_background": "light"
     },
     "output_type": "display_data"
    }
   ],
   "source": [
    "np.fill_diagonal(norm_conf_mx, 0)\n",
    "plt.matshow(norm_conf_mx, cmap=plt.cm.gray)\n",
    "save_fig(\"confusion_matrix_errors_plot\", tight_layout=False)\n",
    "plt.show()"
   ]
  },
  {
   "cell_type": "markdown",
   "id": "2e3dc1b7",
   "metadata": {},
   "source": [
    "## 다중 레이블 분류"
   ]
  },
  {
   "cell_type": "markdown",
   "id": "0161d431",
   "metadata": {},
   "source": [
    "* 여러 개의 이진 꼬리표를 출력하는 분류 시스템"
   ]
  },
  {
   "cell_type": "code",
   "execution_count": 72,
   "id": "1c384f84",
   "metadata": {},
   "outputs": [
    {
     "data": {
      "text/plain": [
       "KNeighborsClassifier()"
      ]
     },
     "execution_count": 72,
     "metadata": {},
     "output_type": "execute_result"
    }
   ],
   "source": [
    "from sklearn.neighbors import KNeighborsClassifier\n",
    "\n",
    "y_train_large = (y_train >= 7)\n",
    "y_train_odd = (y_train % 2 == 1)\n",
    "y_multilabel = np.c_[y_train_large, y_train_odd]\n",
    "\n",
    "knn_clf = KNeighborsClassifier()\n",
    "knn_clf.fit(X_train, y_multilabel)"
   ]
  },
  {
   "cell_type": "code",
   "execution_count": 73,
   "id": "cf6d0662",
   "metadata": {},
   "outputs": [
    {
     "data": {
      "text/plain": [
       "array([[False,  True]])"
      ]
     },
     "execution_count": 73,
     "metadata": {},
     "output_type": "execute_result"
    }
   ],
   "source": [
    "knn_clf.predict([some_digit])\n",
    "# some_digit은 5이기 때문에 7보다 작으니 F, 홀수니까 T"
   ]
  },
  {
   "cell_type": "code",
   "execution_count": 74,
   "id": "c680aee1",
   "metadata": {},
   "outputs": [],
   "source": [
    "#y_train_knn_pred = cross_val_predict(knn_clf, X_train, y_multilabel, cv=3)\n",
    "#f1_score(y_multilabel, y_train_knn_pred, average=\"macro\")"
   ]
  },
  {
   "cell_type": "markdown",
   "id": "34d72f9f",
   "metadata": {},
   "source": [
    "## 다중 출력 분류"
   ]
  },
  {
   "cell_type": "code",
   "execution_count": 75,
   "id": "72f47570",
   "metadata": {},
   "outputs": [],
   "source": [
    "noise = np.random.randint(0, 100, (len(X_train), 784))\n",
    "X_train_mod = X_train + noise\n",
    "noise = np.random.randint(0, 100, (len(X_test), 784))\n",
    "X_test_mod = X_test + noise\n",
    "y_train_mod = X_train\n",
    "y_test_mod = X_test"
   ]
  },
  {
   "cell_type": "code",
   "execution_count": 76,
   "id": "fd7326ae",
   "metadata": {},
   "outputs": [
    {
     "name": "stdout",
     "output_type": "stream",
     "text": [
      "그림 저장: noisy_digit_example_plot\n"
     ]
    },
    {
     "data": {
      "image/png": "[encoded data removed]",
      "text/plain": [
       "<Figure size 432x288 with 2 Axes>"
      ]
     },
     "metadata": {
      "needs_background": "light"
     },
     "output_type": "display_data"
    }
   ],
   "source": [
    "some_index = 0\n",
    "plt.subplot(121); plot_digit(X_test_mod[some_index])\n",
    "plt.subplot(122); plot_digit(y_test_mod[some_index])\n",
    "save_fig(\"noisy_digit_example_plot\")\n",
    "plt.show()\n",
    "#노이즈 섞어 만든 이미지 출력"
   ]
  },
  {
   "cell_type": "code",
   "execution_count": 77,
   "id": "a64c5637",
   "metadata": {},
   "outputs": [
    {
     "name": "stdout",
     "output_type": "stream",
     "text": [
      "그림 저장: cleaned_digit_example_plot\n"
     ]
    },
    {
     "data": {
      "image/png": "[encoded data removed]",
      "text/plain": [
       "<Figure size 432x288 with 1 Axes>"
      ]
     },
     "metadata": {
      "needs_background": "light"
     },
     "output_type": "display_data"
    }
   ],
   "source": [
    "knn_clf.fit(X_train_mod, y_train_mod)\n",
    "clean_digit = knn_clf.predict([X_test_mod[some_index]])\n",
    "plot_digit(clean_digit)\n",
    "save_fig(\"cleaned_digit_example_plot\")\n",
    "#각 픽셀(레이블)에 다중 클래스(0~255)부여 ?"
   ]
  },
  {
   "cell_type": "code",
   "execution_count": null,
   "id": "d48c2dd7",
   "metadata": {},
   "outputs": [],
   "source": []
  }
 ],
 "metadata": {
  "kernelspec": {
   "display_name": "Python 3 (ipykernel)",
   "language": "python",
   "name": "python3"
  },
  "language_info": {
   "codemirror_mode": {
    "name": "ipython",
    "version": 3
   },
   "file_extension": ".py",
   "mimetype": "text/x-python",
   "name": "python",
   "nbconvert_exporter": "python",
   "pygments_lexer": "ipython3",
   "version": "3.9.2"
  }
 },
 "nbformat": 4,
 "nbformat_minor": 5
}
